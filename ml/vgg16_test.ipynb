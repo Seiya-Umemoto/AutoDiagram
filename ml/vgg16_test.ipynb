{
 "cells": [
  {
   "cell_type": "code",
   "execution_count": 4,
   "metadata": {},
   "outputs": [
    {
     "name": "stdout",
     "output_type": "stream",
     "text": [
      "cabbage_images  :  image_copy/cabbage_images\\cabbage_1.jpg\n",
      "cabbage_images  :  image_copy/cabbage_images\\cabbage_1269.jpg\n",
      "cabbage_images  :  image_copy/cabbage_images\\cabbage_1539.jpg\n",
      "cabbage_images  :  image_copy/cabbage_images\\cabbage_1809.jpg\n",
      "cabbage_images  :  image_copy/cabbage_images\\cabbage_279.jpg\n",
      "cabbage_images  :  image_copy/cabbage_images\\cabbage_549.jpg\n",
      "cabbage_images  :  image_copy/cabbage_images\\cabbage_819.jpg\n",
      "onion_images  :  image_copy/onion_images\\onion_1.jpg\n",
      "onion_images  :  image_copy/onion_images\\onion_1269.jpg\n",
      "onion_images  :  image_copy/onion_images\\onion_1539.jpg\n",
      "onion_images  :  image_copy/onion_images\\onion_1809.jpg\n",
      "onion_images  :  image_copy/onion_images\\onion_279.jpg\n",
      "onion_images  :  image_copy/onion_images\\onion_549.jpg\n",
      "onion_images  :  image_copy/onion_images\\onion_819.jpg\n",
      "trans_images  :  image_copy/trans_images\\carrot_1.jpg\n",
      "trans_images  :  image_copy/trans_images\\carrot_1269.jpg\n",
      "trans_images  :  image_copy/trans_images\\carrot_1539.jpg\n",
      "trans_images  :  image_copy/trans_images\\carrot_1809.jpg\n",
      "trans_images  :  image_copy/trans_images\\carrot_279.jpg\n",
      "trans_images  :  image_copy/trans_images\\carrot_549.jpg\n",
      "trans_images  :  image_copy/trans_images\\carrot_819.jpg\n"
     ]
    }
   ],
   "source": [
    "from PIL import Image\n",
    "import os, glob, sys, numpy as np\n",
    "from sklearn.model_selection import train_test_split\n",
    "from keras.utils import np_utils\n",
    "\n",
    "img_dir = 'image_copy'\n",
    "categories = ['cabbage_images', 'onion_images', 'trans_images']\n",
    "np_classes = len(categories)\n",
    "\n",
    "image_w = 64\n",
    "image_h = 64\n",
    "\n",
    "\n",
    "pixel = image_h * image_w * 3\n",
    "\n",
    "X = []\n",
    "y = []\n",
    "\n",
    "for idx, cat in enumerate(categories):\n",
    "    img_dir_detail = img_dir + \"/\" + cat\n",
    "    files = glob.glob(img_dir_detail+\"/*.jpg\")\n",
    "\n",
    "\n",
    "    for i, f in enumerate(files):\n",
    "        try:\n",
    "            img = Image.open(f)\n",
    "            img = img.convert(\"RGB\")\n",
    "            img = img.resize((image_w, image_h))\n",
    "            data = np.asarray(img)\n",
    "            #Y는 0 아니면 1이니까 idx값으로 넣는다.\n",
    "            X.append(data)\n",
    "            y.append(idx)\n",
    "            if i % 300 == 0:\n",
    "                print(cat, \" : \", f)\n",
    "        except:\n",
    "            print(cat, str(i)+\" 번째에서 에러 \")\n",
    "X = np.array(X)\n",
    "Y = np.array(y)\n",
    "\n",
    "\n",
    "X_train, X_test, Y_train, Y_test = train_test_split(X, Y, test_size=0.1)\n",
    "\n",
    "xy = (X_train, X_test, Y_train, Y_test)\n",
    "np.save(\"image_copy/binary_image_data.npy\", xy)"
   ]
  },
  {
   "cell_type": "code",
   "execution_count": 5,
   "metadata": {},
   "outputs": [
    {
     "name": "stdout",
     "output_type": "stream",
     "text": [
      "(5400, 64, 64, 3)\n",
      "5400\n",
      "[1805 1797 1798]\n",
      "[195 203 202]\n"
     ]
    }
   ],
   "source": [
    "from keras.models import Sequential\n",
    "from keras.layers import Conv2D, MaxPooling2D, Dense, Flatten, Dropout\n",
    "from keras.callbacks import EarlyStopping, ModelCheckpoint\n",
    "import matplotlib.pyplot as plt\n",
    "\n",
    "\n",
    "#X_train, X_test, y_train, y_test = np.load('image_copy/binary_image_data.npy')\n",
    "print(X_train.shape)\n",
    "print(X_train.shape[0])\n",
    "print(np.bincount(Y_train))\n",
    "print(np.bincount(Y_test))"
   ]
  },
  {
   "cell_type": "code",
   "execution_count": 48,
   "metadata": {},
   "outputs": [],
   "source": [
    "import keras,os\n",
    "from keras.models import Sequential\n",
    "from keras.layers import Dense, Conv2D, MaxPool2D , Flatten\n",
    "from keras.preprocessing.image import ImageDataGenerator\n",
    "import numpy as np"
   ]
  },
  {
   "cell_type": "code",
   "execution_count": 49,
   "metadata": {},
   "outputs": [],
   "source": [
    "from tensorflow.keras.applications.vgg16 import VGG16\n",
    "from tensorflow.keras.preprocessing import image\n",
    "from tensorflow.keras.applications.vgg16 import preprocess_input\n",
    "import numpy as np"
   ]
  },
  {
   "cell_type": "code",
   "execution_count": 50,
   "metadata": {},
   "outputs": [],
   "source": [
    "model = VGG16(weights='imagenet', include_top=False)"
   ]
  },
  {
   "cell_type": "code",
   "execution_count": 51,
   "metadata": {},
   "outputs": [],
   "source": [
    "img_path = 'image_copy/cabbage/cabbage_1.jpg'\n",
    "img = image.load_img(img_path, target_size=(224, 224))\n",
    "x = image.img_to_array(img)\n",
    "x = np.expand_dims(x, axis=0)\n",
    "x = preprocess_input(x)\n",
    "\n",
    "features = model.predict(x)"
   ]
  },
  {
   "cell_type": "code",
   "execution_count": 53,
   "metadata": {},
   "outputs": [],
   "source": [
    "model = Sequential()"
   ]
  },
  {
   "cell_type": "code",
   "execution_count": 54,
   "metadata": {},
   "outputs": [],
   "source": [
    "\n",
    "model.add(Conv2D(input_shape=(224,224,3),filters=64,kernel_size=(3,3),padding=\"same\", activation=\"relu\"))\n",
    "model.add(Conv2D(filters=64,kernel_size=(3,3),padding=\"same\", activation=\"relu\"))\n",
    "model.add(MaxPool2D(pool_size=(2,2),strides=(2,2)))\n",
    "model.add(Conv2D(filters=128, kernel_size=(3,3), padding=\"same\", activation=\"relu\"))\n",
    "model.add(Conv2D(filters=128, kernel_size=(3,3), padding=\"same\", activation=\"relu\"))\n",
    "model.add(MaxPool2D(pool_size=(2,2),strides=(2,2)))\n",
    "model.add(Conv2D(filters=256, kernel_size=(3,3), padding=\"same\", activation=\"relu\"))\n",
    "model.add(Conv2D(filters=256, kernel_size=(3,3), padding=\"same\", activation=\"relu\"))\n",
    "model.add(Conv2D(filters=256, kernel_size=(3,3), padding=\"same\", activation=\"relu\"))\n",
    "model.add(MaxPool2D(pool_size=(2,2),strides=(2,2)))\n",
    "model.add(Conv2D(filters=512, kernel_size=(3,3), padding=\"same\", activation=\"relu\"))\n",
    "model.add(Conv2D(filters=512, kernel_size=(3,3), padding=\"same\", activation=\"relu\"))\n",
    "model.add(Conv2D(filters=512, kernel_size=(3,3), padding=\"same\", activation=\"relu\"))\n",
    "model.add(MaxPool2D(pool_size=(2,2),strides=(2,2)))\n",
    "model.add(Conv2D(filters=512, kernel_size=(3,3), padding=\"same\", activation=\"relu\"))\n",
    "model.add(Conv2D(filters=512, kernel_size=(3,3), padding=\"same\", activation=\"relu\"))\n",
    "model.add(Conv2D(filters=512, kernel_size=(3,3), padding=\"same\", activation=\"relu\"))\n",
    "model.add(MaxPool2D(pool_size=(2,2),strides=(2,2)))"
   ]
  },
  {
   "cell_type": "code",
   "execution_count": 55,
   "metadata": {},
   "outputs": [],
   "source": [
    "model.add(Flatten())\n",
    "model.add(Dense(units=4096,activation=\"relu\"))\n",
    "model.add(Dense(units=4096,activation=\"relu\"))\n",
    "model.add(Dense(units=2, activation=\"softmax\"))"
   ]
  },
  {
   "cell_type": "code",
   "execution_count": 56,
   "metadata": {},
   "outputs": [],
   "source": [
    "from keras.optimizers import Adam\n",
    "opt = Adam(lr=0.001)\n",
    "model.compile(optimizer=opt, loss=keras.losses.categorical_crossentropy, metrics=['accuracy'])"
   ]
  },
  {
   "cell_type": "code",
   "execution_count": 57,
   "metadata": {
    "scrolled": true
   },
   "outputs": [
    {
     "name": "stdout",
     "output_type": "stream",
     "text": [
      "Model: \"sequential_2\"\n",
      "_________________________________________________________________\n",
      "Layer (type)                 Output Shape              Param #   \n",
      "=================================================================\n",
      "conv2d_13 (Conv2D)           (None, 224, 224, 64)      1792      \n",
      "_________________________________________________________________\n",
      "conv2d_14 (Conv2D)           (None, 224, 224, 64)      36928     \n",
      "_________________________________________________________________\n",
      "max_pooling2d_5 (MaxPooling2 (None, 112, 112, 64)      0         \n",
      "_________________________________________________________________\n",
      "conv2d_15 (Conv2D)           (None, 112, 112, 128)     73856     \n",
      "_________________________________________________________________\n",
      "conv2d_16 (Conv2D)           (None, 112, 112, 128)     147584    \n",
      "_________________________________________________________________\n",
      "max_pooling2d_6 (MaxPooling2 (None, 56, 56, 128)       0         \n",
      "_________________________________________________________________\n",
      "conv2d_17 (Conv2D)           (None, 56, 56, 256)       295168    \n",
      "_________________________________________________________________\n",
      "conv2d_18 (Conv2D)           (None, 56, 56, 256)       590080    \n",
      "_________________________________________________________________\n",
      "conv2d_19 (Conv2D)           (None, 56, 56, 256)       590080    \n",
      "_________________________________________________________________\n",
      "max_pooling2d_7 (MaxPooling2 (None, 28, 28, 256)       0         \n",
      "_________________________________________________________________\n",
      "conv2d_20 (Conv2D)           (None, 28, 28, 512)       1180160   \n",
      "_________________________________________________________________\n",
      "conv2d_21 (Conv2D)           (None, 28, 28, 512)       2359808   \n",
      "_________________________________________________________________\n",
      "conv2d_22 (Conv2D)           (None, 28, 28, 512)       2359808   \n",
      "_________________________________________________________________\n",
      "max_pooling2d_8 (MaxPooling2 (None, 14, 14, 512)       0         \n",
      "_________________________________________________________________\n",
      "conv2d_23 (Conv2D)           (None, 14, 14, 512)       2359808   \n",
      "_________________________________________________________________\n",
      "conv2d_24 (Conv2D)           (None, 14, 14, 512)       2359808   \n",
      "_________________________________________________________________\n",
      "conv2d_25 (Conv2D)           (None, 14, 14, 512)       2359808   \n",
      "_________________________________________________________________\n",
      "max_pooling2d_9 (MaxPooling2 (None, 7, 7, 512)         0         \n",
      "_________________________________________________________________\n",
      "flatten_1 (Flatten)          (None, 25088)             0         \n",
      "_________________________________________________________________\n",
      "dense_3 (Dense)              (None, 4096)              102764544 \n",
      "_________________________________________________________________\n",
      "dense_4 (Dense)              (None, 4096)              16781312  \n",
      "_________________________________________________________________\n",
      "dense_5 (Dense)              (None, 2)                 8194      \n",
      "=================================================================\n",
      "Total params: 134,268,738\n",
      "Trainable params: 134,268,738\n",
      "Non-trainable params: 0\n",
      "_________________________________________________________________\n"
     ]
    }
   ],
   "source": [
    "model.summary()"
   ]
  },
  {
   "cell_type": "code",
   "execution_count": 58,
   "metadata": {},
   "outputs": [],
   "source": [
    "from keras.callbacks import ModelCheckpoint, EarlyStopping\n",
    "checkpoint = ModelCheckpoint(\"vgg16_1.h5\", monitor='val_acc', verbose=1, save_best_only=True, save_weights_only=False, mode='auto', save_freq=1)\n",
    "early = EarlyStopping(monitor='val_acc', min_delta=0, patience=20, verbose=1, mode='auto')\n"
   ]
  },
  {
   "cell_type": "code",
   "execution_count": 59,
   "metadata": {},
   "outputs": [
    {
     "name": "stdout",
     "output_type": "stream",
     "text": [
      "Epoch 1/3\n",
      "WARNING:tensorflow:Can save best model only with val_acc available, skipping.\n",
      " 1/10 [==>...........................] - ETA: 0s - loss: 1.6101 - accuracy: 0.0000e+00WARNING:tensorflow:Can save best model only with val_acc available, skipping.\n",
      " 2/10 [=====>........................] - ETA: 1:33 - loss: 10904.0918 - accuracy: 0.5000WARNING:tensorflow:Can save best model only with val_acc available, skipping.\n",
      " 3/10 [========>.....................] - ETA: 1:45 - loss: 2616031.0000 - accuracy: 0.3333WARNING:tensorflow:Can save best model only with val_acc available, skipping.\n",
      " 4/10 [===========>..................] - ETA: 1:40 - loss: 188008000.0000 - accuracy: 0.5000WARNING:tensorflow:Can save best model only with val_acc available, skipping.\n",
      " 5/10 [==============>...............] - ETA: 1:29 - loss: 2726794496.0000 - accuracy: 0.4000WARNING:tensorflow:Can save best model only with val_acc available, skipping.\n",
      " 6/10 [=================>............] - ETA: 1:13 - loss: 51503796224.0000 - accuracy: 0.5000WARNING:tensorflow:Can save best model only with val_acc available, skipping.\n",
      " 7/10 [====================>.........] - ETA: 56s - loss: 292557389824.0000 - accuracy: 0.4286WARNING:tensorflow:Can save best model only with val_acc available, skipping.\n",
      " 8/10 [=======================>......] - ETA: 38s - loss: 2290264047616.0000 - accuracy: 0.5000WARNING:tensorflow:Can save best model only with val_acc available, skipping.\n",
      " 9/10 [==========================>...] - ETA: 19s - loss: 10565011374080.0000 - accuracy: 0.4444WARNING:tensorflow:Can save best model only with val_acc available, skipping.\n",
      "10/10 [==============================] - ETA: 0s - loss: 50095445770240.0000 - accuracy: 0.5000 WARNING:tensorflow:Your input ran out of data; interrupting training. Make sure that your dataset or generator can generate at least `steps_per_epoch * epochs` batches (in this case, 10 batches). You may need to use the repeat() function when building your dataset.\n",
      "WARNING:tensorflow:Early stopping conditioned on metric `val_acc` which is not available. Available metrics are: loss,accuracy,val_loss,val_accuracy\n",
      "10/10 [==============================] - 227s 23s/step - loss: 50095445770240.0000 - accuracy: 0.5000 - val_loss: 1637105436459008.0000 - val_accuracy: 0.0000e+00\n",
      "Epoch 2/3\n",
      "WARNING:tensorflow:Can save best model only with val_acc available, skipping.\n",
      " 1/10 [==>...........................] - ETA: 0s - loss: 1533704098807808.0000 - accuracy: 0.0000e+00WARNING:tensorflow:Can save best model only with val_acc available, skipping.\n",
      " 2/10 [=====>........................] - ETA: 1:36 - loss: 4280604388491264.0000 - accuracy: 0.5000  WARNING:tensorflow:Can save best model only with val_acc available, skipping.\n",
      " 3/10 [========>.....................] - ETA: 1:58 - loss: 8076216238080000.0000 - accuracy: 0.3333WARNING:tensorflow:Can save best model only with val_acc available, skipping.\n",
      " 4/10 [===========>..................] - ETA: 2:01 - loss: 28438909054615552.0000 - accuracy: 0.5000WARNING:tensorflow:Can save best model only with val_acc available, skipping.\n",
      " 5/10 [==============>...............] - ETA: 1:50 - loss: 38168919093018624.0000 - accuracy: 0.4000WARNING:tensorflow:Can save best model only with val_acc available, skipping.\n",
      " 6/10 [=================>............] - ETA: 1:34 - loss: 221024514610298880.0000 - accuracy: 0.5000WARNING:tensorflow:Can save best model only with val_acc available, skipping.\n",
      " 7/10 [====================>.........] - ETA: 1:12 - loss: 233975610534264832.0000 - accuracy: 0.5714WARNING:tensorflow:Can save best model only with val_acc available, skipping.\n",
      " 8/10 [=======================>......] - ETA: 48s - loss: 2595973341458202624.0000 - accuracy: 0.5000WARNING:tensorflow:Can save best model only with val_acc available, skipping.\n",
      " 9/10 [==========================>...] - ETA: 24s - loss: nan - accuracy: 0.5556                     WARNING:tensorflow:Can save best model only with val_acc available, skipping.\n",
      "10/10 [==============================] - ETA: 0s - loss: nan - accuracy: 0.6000 WARNING:tensorflow:Early stopping conditioned on metric `val_acc` which is not available. Available metrics are: loss,accuracy\n",
      "10/10 [==============================] - 244s 24s/step - loss: nan - accuracy: 0.6000\n",
      "Epoch 3/3\n",
      "WARNING:tensorflow:Can save best model only with val_acc available, skipping.\n",
      " 1/10 [==>...........................] - ETA: 0s - loss: nan - accuracy: 1.0000WARNING:tensorflow:Can save best model only with val_acc available, skipping.\n",
      " 2/10 [=====>........................] - ETA: 1:29 - loss: nan - accuracy: 1.0000WARNING:tensorflow:Can save best model only with val_acc available, skipping.\n",
      " 3/10 [========>.....................] - ETA: 1:42 - loss: nan - accuracy: 1.0000WARNING:tensorflow:Can save best model only with val_acc available, skipping.\n",
      " 4/10 [===========>..................] - ETA: 1:38 - loss: nan - accuracy: 1.0000WARNING:tensorflow:Can save best model only with val_acc available, skipping.\n",
      " 5/10 [==============>...............] - ETA: 1:26 - loss: nan - accuracy: 1.0000WARNING:tensorflow:Can save best model only with val_acc available, skipping.\n",
      " 6/10 [=================>............] - ETA: 1:11 - loss: nan - accuracy: 1.0000WARNING:tensorflow:Can save best model only with val_acc available, skipping.\n",
      " 7/10 [====================>.........] - ETA: 54s - loss: nan - accuracy: 1.0000 WARNING:tensorflow:Can save best model only with val_acc available, skipping.\n",
      " 8/10 [=======================>......] - ETA: 36s - loss: nan - accuracy: 1.0000WARNING:tensorflow:Can save best model only with val_acc available, skipping.\n",
      " 9/10 [==========================>...] - ETA: 18s - loss: nan - accuracy: 1.0000WARNING:tensorflow:Can save best model only with val_acc available, skipping.\n",
      "10/10 [==============================] - ETA: 0s - loss: nan - accuracy: 1.0000 WARNING:tensorflow:Early stopping conditioned on metric `val_acc` which is not available. Available metrics are: loss,accuracy\n",
      "10/10 [==============================] - 185s 19s/step - loss: nan - accuracy: 1.0000\n"
     ]
    }
   ],
   "source": [
    "hist = model.fit_generator(steps_per_epoch=10,generator=traindata,\n",
    "                           validation_data= testdata, validation_steps=10,epochs=3,callbacks=[checkpoint,early])"
   ]
  },
  {
   "cell_type": "code",
   "execution_count": 78,
   "metadata": {
    "scrolled": true
   },
   "outputs": [
    {
     "name": "stdout",
     "output_type": "stream",
     "text": [
      "{'loss': [50095445770240.0, nan, nan], 'accuracy': [0.5, 0.6000000238418579, 1.0], 'val_loss': [1637105436459008.0], 'val_accuracy': [0.0]}\n"
     ]
    },
    {
     "data": {
      "image/png": "[encoded data removed]",
      "text/plain": [
       "<Figure size 432x288 with 1 Axes>"
      ]
     },
     "metadata": {
      "needs_background": "light"
     },
     "output_type": "display_data"
    }
   ],
   "source": [
    "import matplotlib.pyplot as plt\n",
    "print(hist.history)\n",
    "plt.plot(hist.history[\"accuracy\"])\n",
    "plt.plot(hist.history[\"loss\"])\n",
    "plt.title(\"model accuracy\")\n",
    "plt.ylabel(\"Accuracy\")\n",
    "plt.xlabel(\"Epoch\")\n",
    "plt.legend([\"Accuracy\"])\n",
    "plt.show()"
   ]
  },
  {
   "cell_type": "code",
   "execution_count": 66,
   "metadata": {},
   "outputs": [
    {
     "ename": "OSError",
     "evalue": "SavedModel file does not exist at: vgg16_1.h5/{saved_model.pbtxt|saved_model.pb}",
     "output_type": "error",
     "traceback": [
      "\u001b[1;31m---------------------------------------------------------------------------\u001b[0m",
      "\u001b[1;31mOSError\u001b[0m                                   Traceback (most recent call last)",
      "\u001b[1;32m<ipython-input-66-2118132f7147>\u001b[0m in \u001b[0;36m<module>\u001b[1;34m\u001b[0m\n\u001b[0;32m      5\u001b[0m \u001b[0mimg\u001b[0m \u001b[1;33m=\u001b[0m \u001b[0mnp\u001b[0m\u001b[1;33m.\u001b[0m\u001b[0mexpand_dims\u001b[0m\u001b[1;33m(\u001b[0m\u001b[0mimg\u001b[0m\u001b[1;33m,\u001b[0m \u001b[0maxis\u001b[0m\u001b[1;33m=\u001b[0m\u001b[1;36m0\u001b[0m\u001b[1;33m)\u001b[0m\u001b[1;33m\u001b[0m\u001b[1;33m\u001b[0m\u001b[0m\n\u001b[0;32m      6\u001b[0m \u001b[1;32mfrom\u001b[0m \u001b[0mkeras\u001b[0m\u001b[1;33m.\u001b[0m\u001b[0mmodels\u001b[0m \u001b[1;32mimport\u001b[0m \u001b[0mload_model\u001b[0m\u001b[1;33m\u001b[0m\u001b[1;33m\u001b[0m\u001b[0m\n\u001b[1;32m----> 7\u001b[1;33m \u001b[0msaved_model\u001b[0m \u001b[1;33m=\u001b[0m \u001b[0mload_model\u001b[0m\u001b[1;33m(\u001b[0m\u001b[1;34m\"vgg16_1.h5\"\u001b[0m\u001b[1;33m)\u001b[0m\u001b[1;33m\u001b[0m\u001b[1;33m\u001b[0m\u001b[0m\n\u001b[0m\u001b[0;32m      8\u001b[0m \u001b[0moutput\u001b[0m \u001b[1;33m=\u001b[0m \u001b[0msaved_model\u001b[0m\u001b[1;33m.\u001b[0m\u001b[0mpredict\u001b[0m\u001b[1;33m(\u001b[0m\u001b[0mimg\u001b[0m\u001b[1;33m)\u001b[0m\u001b[1;33m\u001b[0m\u001b[1;33m\u001b[0m\u001b[0m\n\u001b[0;32m      9\u001b[0m \u001b[1;32mif\u001b[0m \u001b[0moutput\u001b[0m\u001b[1;33m[\u001b[0m\u001b[1;36m0\u001b[0m\u001b[1;33m]\u001b[0m\u001b[1;33m[\u001b[0m\u001b[1;36m0\u001b[0m\u001b[1;33m]\u001b[0m \u001b[1;33m>\u001b[0m \u001b[0moutput\u001b[0m\u001b[1;33m[\u001b[0m\u001b[1;36m0\u001b[0m\u001b[1;33m]\u001b[0m\u001b[1;33m[\u001b[0m\u001b[1;36m1\u001b[0m\u001b[1;33m]\u001b[0m\u001b[1;33m:\u001b[0m\u001b[1;33m\u001b[0m\u001b[1;33m\u001b[0m\u001b[0m\n",
      "\u001b[1;32m~\\anaconda3\\lib\\site-packages\\tensorflow\\python\\keras\\saving\\save.py\u001b[0m in \u001b[0;36mload_model\u001b[1;34m(filepath, custom_objects, compile, options)\u001b[0m\n\u001b[0;32m    184\u001b[0m     \u001b[0mfilepath\u001b[0m \u001b[1;33m=\u001b[0m \u001b[0mpath_to_string\u001b[0m\u001b[1;33m(\u001b[0m\u001b[0mfilepath\u001b[0m\u001b[1;33m)\u001b[0m\u001b[1;33m\u001b[0m\u001b[1;33m\u001b[0m\u001b[0m\n\u001b[0;32m    185\u001b[0m     \u001b[1;32mif\u001b[0m \u001b[0misinstance\u001b[0m\u001b[1;33m(\u001b[0m\u001b[0mfilepath\u001b[0m\u001b[1;33m,\u001b[0m \u001b[0msix\u001b[0m\u001b[1;33m.\u001b[0m\u001b[0mstring_types\u001b[0m\u001b[1;33m)\u001b[0m\u001b[1;33m:\u001b[0m\u001b[1;33m\u001b[0m\u001b[1;33m\u001b[0m\u001b[0m\n\u001b[1;32m--> 186\u001b[1;33m       \u001b[0mloader_impl\u001b[0m\u001b[1;33m.\u001b[0m\u001b[0mparse_saved_model\u001b[0m\u001b[1;33m(\u001b[0m\u001b[0mfilepath\u001b[0m\u001b[1;33m)\u001b[0m\u001b[1;33m\u001b[0m\u001b[1;33m\u001b[0m\u001b[0m\n\u001b[0m\u001b[0;32m    187\u001b[0m       \u001b[1;32mreturn\u001b[0m \u001b[0msaved_model_load\u001b[0m\u001b[1;33m.\u001b[0m\u001b[0mload\u001b[0m\u001b[1;33m(\u001b[0m\u001b[0mfilepath\u001b[0m\u001b[1;33m,\u001b[0m \u001b[0mcompile\u001b[0m\u001b[1;33m,\u001b[0m \u001b[0moptions\u001b[0m\u001b[1;33m)\u001b[0m\u001b[1;33m\u001b[0m\u001b[1;33m\u001b[0m\u001b[0m\n\u001b[0;32m    188\u001b[0m \u001b[1;33m\u001b[0m\u001b[0m\n",
      "\u001b[1;32m~\\anaconda3\\lib\\site-packages\\tensorflow\\python\\saved_model\\loader_impl.py\u001b[0m in \u001b[0;36mparse_saved_model\u001b[1;34m(export_dir)\u001b[0m\n\u001b[0;32m    108\u001b[0m       \u001b[1;32mraise\u001b[0m \u001b[0mIOError\u001b[0m\u001b[1;33m(\u001b[0m\u001b[1;34m\"Cannot parse file %s: %s.\"\u001b[0m \u001b[1;33m%\u001b[0m \u001b[1;33m(\u001b[0m\u001b[0mpath_to_pbtxt\u001b[0m\u001b[1;33m,\u001b[0m \u001b[0mstr\u001b[0m\u001b[1;33m(\u001b[0m\u001b[0me\u001b[0m\u001b[1;33m)\u001b[0m\u001b[1;33m)\u001b[0m\u001b[1;33m)\u001b[0m\u001b[1;33m\u001b[0m\u001b[1;33m\u001b[0m\u001b[0m\n\u001b[0;32m    109\u001b[0m   \u001b[1;32melse\u001b[0m\u001b[1;33m:\u001b[0m\u001b[1;33m\u001b[0m\u001b[1;33m\u001b[0m\u001b[0m\n\u001b[1;32m--> 110\u001b[1;33m     raise IOError(\"SavedModel file does not exist at: %s/{%s|%s}\" %\n\u001b[0m\u001b[0;32m    111\u001b[0m                   (export_dir,\n\u001b[0;32m    112\u001b[0m                    \u001b[0mconstants\u001b[0m\u001b[1;33m.\u001b[0m\u001b[0mSAVED_MODEL_FILENAME_PBTXT\u001b[0m\u001b[1;33m,\u001b[0m\u001b[1;33m\u001b[0m\u001b[1;33m\u001b[0m\u001b[0m\n",
      "\u001b[1;31mOSError\u001b[0m: SavedModel file does not exist at: vgg16_1.h5/{saved_model.pbtxt|saved_model.pb}"
     ]
    },
    {
     "data": {
      "image/png": "[encoded data removed]",
      "text/plain": [
       "<Figure size 432x288 with 1 Axes>"
      ]
     },
     "metadata": {
      "needs_background": "light"
     },
     "output_type": "display_data"
    }
   ],
   "source": [
    "from keras.preprocessing import image\n",
    "img = image.load_img(\"image_copy/carrot/carrot_1.jpg\",target_size=(224,224))\n",
    "img = np.asarray(img)\n",
    "plt.imshow(img)\n",
    "img = np.expand_dims(img, axis=0)\n",
    "from keras.models import load_model\n",
    "saved_model = load_model(\"vgg16_1.h5\")\n",
    "output = saved_model.predict(img)\n",
    "if output[0][0] > output[0][1]:\n",
    "    print(\"carrot\")\n",
    "else:\n",
    "    print('cabbage')"
   ]
  },
  {
   "cell_type": "code",
   "execution_count": null,
   "metadata": {},
   "outputs": [],
   "source": []
  }
 ],
 "metadata": {
  "kernelspec": {
   "display_name": "Python 3",
   "language": "python",
   "name": "python3"
  },
  "language_info": {
   "codemirror_mode": {
    "name": "ipython",
    "version": 3
   },
   "file_extension": ".py",
   "mimetype": "text/x-python",
   "name": "python",
   "nbconvert_exporter": "python",
   "pygments_lexer": "ipython3",
   "version": "3.8.3"
  }
 },
 "nbformat": 4,
 "nbformat_minor": 4
}
