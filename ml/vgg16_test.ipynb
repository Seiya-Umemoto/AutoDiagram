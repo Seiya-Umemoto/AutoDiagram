{
 "cells": [
  {
   "cell_type": "code",
   "execution_count": 2,
   "metadata": {},
   "outputs": [],
   "source": [
    "import keras,os\n",
    "from keras.models import Sequential\n",
    "from keras.layers import Dense, Conv2D, MaxPool2D , Flatten\n",
    "from keras.preprocessing.image import ImageDataGenerator\n",
    "import numpy as np"
   ]
  },
  {
   "cell_type": "code",
   "execution_count": 3,
   "metadata": {},
   "outputs": [],
   "source": [
    "from tensorflow.keras.applications.vgg16 import VGG16\n",
    "from tensorflow.keras.preprocessing import image\n",
    "from tensorflow.keras.applications.vgg16 import preprocess_input\n",
    "import numpy as np"
   ]
  },
  {
   "cell_type": "code",
   "execution_count": 4,
   "metadata": {},
   "outputs": [],
   "source": [
    "model = VGG16(weights='imagenet', include_top=False)"
   ]
  },
  {
   "cell_type": "code",
   "execution_count": 5,
   "metadata": {},
   "outputs": [],
   "source": [
    "img_path = 'image_copy/cabbage/cabbage_1.jpg'\n",
    "img = image.load_img(img_path, target_size=(224, 224))\n",
    "x = image.img_to_array(img)\n",
    "x = np.expand_dims(x, axis=0)\n",
    "x = preprocess_input(x)\n",
    "\n",
    "features = model.predict(x)"
   ]
  },
  {
   "cell_type": "code",
   "execution_count": 6,
   "metadata": {},
   "outputs": [],
   "source": [
    "model = Sequential()"
   ]
  },
  {
   "cell_type": "code",
   "execution_count": 7,
   "metadata": {},
   "outputs": [],
   "source": [
    "model.add(Conv2D(input_shape=(224,224,3),filters=64,kernel_size=(3,3),padding=\"same\", activation=\"relu\"))\n",
    "model.add(Conv2D(filters=64,kernel_size=(3,3),padding=\"same\", activation=\"relu\"))\n",
    "model.add(MaxPool2D(pool_size=(2,2),strides=(2,2)))\n",
    "model.add(Conv2D(filters=128, kernel_size=(3,3), padding=\"same\", activation=\"relu\"))\n",
    "model.add(Conv2D(filters=128, kernel_size=(3,3), padding=\"same\", activation=\"relu\"))\n",
    "model.add(MaxPool2D(pool_size=(2,2),strides=(2,2)))\n",
    "model.add(Conv2D(filters=256, kernel_size=(3,3), padding=\"same\", activation=\"relu\"))\n",
    "model.add(Conv2D(filters=256, kernel_size=(3,3), padding=\"same\", activation=\"relu\"))\n",
    "model.add(Conv2D(filters=256, kernel_size=(3,3), padding=\"same\", activation=\"relu\"))\n",
    "model.add(MaxPool2D(pool_size=(2,2),strides=(2,2)))\n",
    "model.add(Conv2D(filters=512, kernel_size=(3,3), padding=\"same\", activation=\"relu\"))\n",
    "model.add(Conv2D(filters=512, kernel_size=(3,3), padding=\"same\", activation=\"relu\"))\n",
    "model.add(Conv2D(filters=512, kernel_size=(3,3), padding=\"same\", activation=\"relu\"))\n",
    "model.add(MaxPool2D(pool_size=(2,2),strides=(2,2)))\n",
    "model.add(Conv2D(filters=512, kernel_size=(3,3), padding=\"same\", activation=\"relu\"))\n",
    "model.add(Conv2D(filters=512, kernel_size=(3,3), padding=\"same\", activation=\"relu\"))\n",
    "model.add(Conv2D(filters=512, kernel_size=(3,3), padding=\"same\", activation=\"relu\"))\n",
    "model.add(MaxPool2D(pool_size=(2,2),strides=(2,2)))"
   ]
  },
  {
   "cell_type": "code",
   "execution_count": 18,
   "metadata": {},
   "outputs": [],
   "source": [
    "model.add(Flatten())\n",
    "model.add(Dense(units=8,activation=\"relu\"))\n",
    "model.add(Dense(units=8,activation=\"relu\"))\n",
    "model.add(Dense(units=3, activation=\"softmax\"))"
   ]
  },
  {
   "cell_type": "code",
   "execution_count": 19,
   "metadata": {},
   "outputs": [],
   "source": [
    "from keras.optimizers import Adam\n",
    "opt = Adam(lr=0.001)\n",
    "model.compile(optimizer=opt, loss=keras.losses.categorical_crossentropy, metrics=['accuracy'])"
   ]
  },
  {
   "cell_type": "code",
   "execution_count": 20,
   "metadata": {
    "scrolled": false
   },
   "outputs": [
    {
     "name": "stdout",
     "output_type": "stream",
     "text": [
      "Model: \"sequential\"\n",
      "_________________________________________________________________\n",
      "Layer (type)                 Output Shape              Param #   \n",
      "=================================================================\n",
      "conv2d (Conv2D)              (None, 224, 224, 64)      1792      \n",
      "_________________________________________________________________\n",
      "conv2d_1 (Conv2D)            (None, 224, 224, 64)      36928     \n",
      "_________________________________________________________________\n",
      "max_pooling2d (MaxPooling2D) (None, 112, 112, 64)      0         \n",
      "_________________________________________________________________\n",
      "conv2d_2 (Conv2D)            (None, 112, 112, 128)     73856     \n",
      "_________________________________________________________________\n",
      "conv2d_3 (Conv2D)            (None, 112, 112, 128)     147584    \n",
      "_________________________________________________________________\n",
      "max_pooling2d_1 (MaxPooling2 (None, 56, 56, 128)       0         \n",
      "_________________________________________________________________\n",
      "conv2d_4 (Conv2D)            (None, 56, 56, 256)       295168    \n",
      "_________________________________________________________________\n",
      "conv2d_5 (Conv2D)            (None, 56, 56, 256)       590080    \n",
      "_________________________________________________________________\n",
      "conv2d_6 (Conv2D)            (None, 56, 56, 256)       590080    \n",
      "_________________________________________________________________\n",
      "max_pooling2d_2 (MaxPooling2 (None, 28, 28, 256)       0         \n",
      "_________________________________________________________________\n",
      "conv2d_7 (Conv2D)            (None, 28, 28, 512)       1180160   \n",
      "_________________________________________________________________\n",
      "conv2d_8 (Conv2D)            (None, 28, 28, 512)       2359808   \n",
      "_________________________________________________________________\n",
      "conv2d_9 (Conv2D)            (None, 28, 28, 512)       2359808   \n",
      "_________________________________________________________________\n",
      "max_pooling2d_3 (MaxPooling2 (None, 14, 14, 512)       0         \n",
      "_________________________________________________________________\n",
      "conv2d_10 (Conv2D)           (None, 14, 14, 512)       2359808   \n",
      "_________________________________________________________________\n",
      "conv2d_11 (Conv2D)           (None, 14, 14, 512)       2359808   \n",
      "_________________________________________________________________\n",
      "conv2d_12 (Conv2D)           (None, 14, 14, 512)       2359808   \n",
      "_________________________________________________________________\n",
      "max_pooling2d_4 (MaxPooling2 (None, 7, 7, 512)         0         \n",
      "_________________________________________________________________\n",
      "flatten (Flatten)            (None, 25088)             0         \n",
      "_________________________________________________________________\n",
      "dense (Dense)                (None, 8)                 200712    \n",
      "_________________________________________________________________\n",
      "dense_1 (Dense)              (None, 4096)              36864     \n",
      "_________________________________________________________________\n",
      "dense_2 (Dense)              (None, 3)                 12291     \n",
      "_________________________________________________________________\n",
      "flatten_1 (Flatten)          (None, 3)                 0         \n",
      "_________________________________________________________________\n",
      "dense_3 (Dense)              (None, 8)                 32        \n",
      "_________________________________________________________________\n",
      "dense_4 (Dense)              (None, 8)                 72        \n",
      "_________________________________________________________________\n",
      "dense_5 (Dense)              (None, 3)                 27        \n",
      "=================================================================\n",
      "Total params: 14,964,686\n",
      "Trainable params: 14,964,686\n",
      "Non-trainable params: 0\n",
      "_________________________________________________________________\n"
     ]
    }
   ],
   "source": [
    "model.summary()"
   ]
  },
  {
   "cell_type": "code",
   "execution_count": 21,
   "metadata": {},
   "outputs": [],
   "source": [
    "from keras.callbacks import ModelCheckpoint, EarlyStopping\n",
    "checkpoint = ModelCheckpoint(\"vgg16_1.h5\", monitor='val_acc', verbose=1, save_best_only=True, save_weights_only=False, mode='auto', save_freq=1)\n",
    "early = EarlyStopping(monitor='val_acc', min_delta=0, patience=20, verbose=1, mode='auto')\n"
   ]
  },
  {
   "cell_type": "code",
   "execution_count": 22,
   "metadata": {},
   "outputs": [
    {
     "name": "stdout",
     "output_type": "stream",
     "text": [
      "Found 5400 images belonging to 3 classes.\n",
      "Found 600 images belonging to 3 classes.\n"
     ]
    }
   ],
   "source": [
    "trdata = ImageDataGenerator()\n",
    "traindata = trdata.flow_from_directory(directory=\"image_copy/train\", target_size=(224,224))\n",
    "tsdata = ImageDataGenerator()                        \n",
    "testdata = tsdata.flow_from_directory(directory=\"image_copy/test\", target_size=(224,224))"
   ]
  },
  {
   "cell_type": "code",
   "execution_count": 23,
   "metadata": {
    "scrolled": false
   },
   "outputs": [
    {
     "name": "stdout",
     "output_type": "stream",
     "text": [
      "Epoch 1/5\n",
      "WARNING:tensorflow:Can save best model only with val_acc available, skipping.\n",
      "1/5 [=====>........................] - ETA: 0s - loss: 1.0900 - accuracy: 0.4375WARNING:tensorflow:Can save best model only with val_acc available, skipping.\n",
      "2/5 [===========>..................] - ETA: 23s - loss: 1.0973 - accuracy: 0.3906WARNING:tensorflow:Can save best model only with val_acc available, skipping.\n",
      "3/5 [=================>............] - ETA: 20s - loss: 1.1014 - accuracy: 0.3438WARNING:tensorflow:Can save best model only with val_acc available, skipping.\n",
      "4/5 [=======================>......] - ETA: 11s - loss: 1.1017 - accuracy: 0.3594WARNING:tensorflow:Can save best model only with val_acc available, skipping.\n",
      "5/5 [==============================] - ETA: 0s - loss: 1.1021 - accuracy: 0.3562 WARNING:tensorflow:Early stopping conditioned on metric `val_acc` which is not available. Available metrics are: loss,accuracy,val_loss,val_accuracy\n",
      "5/5 [==============================] - 98s 20s/step - loss: 1.1021 - accuracy: 0.3562 - val_loss: 1.0989 - val_accuracy: 0.3187\n",
      "Epoch 2/5\n",
      "WARNING:tensorflow:Can save best model only with val_acc available, skipping.\n",
      "1/5 [=====>........................] - ETA: 0s - loss: 1.1076 - accuracy: 0.3750WARNING:tensorflow:Can save best model only with val_acc available, skipping.\n",
      "2/5 [===========>..................] - ETA: 24s - loss: 1.1060 - accuracy: 0.3281WARNING:tensorflow:Can save best model only with val_acc available, skipping.\n",
      "3/5 [=================>............] - ETA: 21s - loss: 1.1004 - accuracy: 0.3750WARNING:tensorflow:Can save best model only with val_acc available, skipping.\n",
      "4/5 [=======================>......] - ETA: 11s - loss: 1.0985 - accuracy: 0.3750WARNING:tensorflow:Can save best model only with val_acc available, skipping.\n",
      "5/5 [==============================] - ETA: 0s - loss: 1.1007 - accuracy: 0.3375 WARNING:tensorflow:Early stopping conditioned on metric `val_acc` which is not available. Available metrics are: loss,accuracy,val_loss,val_accuracy\n",
      "5/5 [==============================] - 100s 20s/step - loss: 1.1007 - accuracy: 0.3375 - val_loss: 1.1000 - val_accuracy: 0.3344\n",
      "Epoch 3/5\n",
      "WARNING:tensorflow:Can save best model only with val_acc available, skipping.\n",
      "1/5 [=====>........................] - ETA: 0s - loss: 1.1046 - accuracy: 0.3125WARNING:tensorflow:Can save best model only with val_acc available, skipping.\n",
      "2/5 [===========>..................] - ETA: 22s - loss: 1.1017 - accuracy: 0.3594WARNING:tensorflow:Can save best model only with val_acc available, skipping.\n",
      "3/5 [=================>............] - ETA: 21s - loss: 1.1028 - accuracy: 0.3229WARNING:tensorflow:Can save best model only with val_acc available, skipping.\n",
      "4/5 [=======================>......] - ETA: 11s - loss: 1.1036 - accuracy: 0.2969WARNING:tensorflow:Can save best model only with val_acc available, skipping.\n",
      "5/5 [==============================] - ETA: 0s - loss: 1.1025 - accuracy: 0.3125 WARNING:tensorflow:Early stopping conditioned on metric `val_acc` which is not available. Available metrics are: loss,accuracy,val_loss,val_accuracy\n",
      "5/5 [==============================] - 97s 19s/step - loss: 1.1025 - accuracy: 0.3125 - val_loss: 1.0986 - val_accuracy: 0.3344\n",
      "Epoch 4/5\n",
      "WARNING:tensorflow:Can save best model only with val_acc available, skipping.\n",
      "1/5 [=====>........................] - ETA: 0s - loss: 1.1005 - accuracy: 0.2812WARNING:tensorflow:Can save best model only with val_acc available, skipping.\n",
      "2/5 [===========>..................] - ETA: 21s - loss: 1.1012 - accuracy: 0.2812WARNING:tensorflow:Can save best model only with val_acc available, skipping.\n",
      "3/5 [=================>............] - ETA: 19s - loss: 1.1009 - accuracy: 0.2917WARNING:tensorflow:Can save best model only with val_acc available, skipping.\n",
      "4/5 [=======================>......] - ETA: 10s - loss: 1.1008 - accuracy: 0.2891WARNING:tensorflow:Can save best model only with val_acc available, skipping.\n",
      "5/5 [==============================] - ETA: 0s - loss: 1.0988 - accuracy: 0.3250 WARNING:tensorflow:Early stopping conditioned on metric `val_acc` which is not available. Available metrics are: loss,accuracy,val_loss,val_accuracy\n",
      "5/5 [==============================] - 95s 19s/step - loss: 1.0988 - accuracy: 0.3250 - val_loss: 1.0982 - val_accuracy: 0.3438\n",
      "Epoch 5/5\n",
      "WARNING:tensorflow:Can save best model only with val_acc available, skipping.\n",
      "1/5 [=====>........................] - ETA: 0s - loss: 1.0889 - accuracy: 0.4375WARNING:tensorflow:Can save best model only with val_acc available, skipping.\n",
      "2/5 [===========>..................] - ETA: 21s - loss: 1.0935 - accuracy: 0.3750WARNING:tensorflow:Can save best model only with val_acc available, skipping.\n",
      "3/5 [=================>............] - ETA: 19s - loss: 1.0969 - accuracy: 0.3542WARNING:tensorflow:Can save best model only with val_acc available, skipping.\n",
      "4/5 [=======================>......] - ETA: 11s - loss: 1.0960 - accuracy: 0.3672WARNING:tensorflow:Can save best model only with val_acc available, skipping.\n",
      "5/5 [==============================] - ETA: 0s - loss: 1.0982 - accuracy: 0.3438 WARNING:tensorflow:Early stopping conditioned on metric `val_acc` which is not available. Available metrics are: loss,accuracy,val_loss,val_accuracy\n",
      "5/5 [==============================] - 96s 19s/step - loss: 1.0982 - accuracy: 0.3438 - val_loss: 1.0989 - val_accuracy: 0.3438\n"
     ]
    }
   ],
   "source": [
    "hist = model.fit_generator(steps_per_epoch=5,generator=traindata,\n",
    "                           validation_data= testdata, validation_steps=10,epochs=5,callbacks=[checkpoint,early])"
   ]
  },
  {
   "cell_type": "code",
   "execution_count": 21,
   "metadata": {
    "scrolled": false
   },
   "outputs": [
    {
     "name": "stdout",
     "output_type": "stream",
     "text": [
      "{'loss': [1.0874637365341187, 1.1018407344818115, 1.0977966785430908, 1.106642723083496, 1.1006065607070923], 'accuracy': [0.41874998807907104, 0.32499998807907104, 0.38749998807907104, 0.29374998807907104, 0.33125001192092896], 'val_loss': [1.1027562618255615, 1.1015501022338867, 1.0990387201309204, 1.0996320247650146, 1.0987799167633057], 'val_accuracy': [0.328125, 0.34375, 0.3531250059604645, 0.34375, 0.3531250059604645]}\n"
     ]
    },
    {
     "data": {
      "image/png": "[encoded data removed]",
      "text/plain": [
       "<Figure size 432x288 with 1 Axes>"
      ]
     },
     "metadata": {
      "needs_background": "light"
     },
     "output_type": "display_data"
    }
   ],
   "source": [
    "import matplotlib.pyplot as plt\n",
    "print(hist.history)\n",
    "plt.plot(hist.history[\"accuracy\"])\n",
    "plt.plot(hist.history['val_accuracy'])\n",
    "plt.plot(hist.history['loss'])\n",
    "plt.plot(hist.history['val_loss'])\n",
    "plt.title(\"model accuracy\")\n",
    "plt.ylabel(\"Accuracy\")\n",
    "plt.xlabel(\"Epoch\")\n",
    "plt.legend([\"Accuracy\", \"Validation Accuracy\", \"loss\", \"Validation Loss\"])\n",
    "plt.show()"
   ]
  },
  {
   "cell_type": "code",
   "execution_count": null,
   "metadata": {},
   "outputs": [],
   "source": [
    "model.save(\"vgg16\")"
   ]
  },
  {
   "cell_type": "code",
   "execution_count": null,
   "metadata": {},
   "outputs": [],
   "source": [
    "from keras.preprocessing import image\n",
    "import tensorflow as tf\n",
    "img = image.load_img(\"image_copy/carrot/carrot_1.jpg\",target_size=(224,224))\n",
    "img = np.asarray(img)\n",
    "plt.imshow(img)\n",
    "img = np.expand_dims(img, axis=0)\n",
    "from keras.models import load_model\n",
    "loaded_model = tf.keras.models.load_model('vgg16')"
   ]
  },
  {
   "cell_type": "code",
   "execution_count": null,
   "metadata": {
    "scrolled": false
   },
   "outputs": [],
   "source": [
    "img = image.load_img(\"image_copy/cabbage/cabbage_1.jpg\",target_size=(224,224))\n",
    "img = np.asarray(img)\n",
    "\n",
    "img = np.expand_dims(img, axis=0)\n",
    "output = loaded_model.predict(img)\n",
    "output"
   ]
  },
  {
   "cell_type": "code",
   "execution_count": null,
   "metadata": {},
   "outputs": [],
   "source": [
    "output = loaded_model.predict(img)\n",
    "if output[0][0] > output[0][1] and output[0][0] > output[0][2]:\n",
    "    print(\"cabbage\")\n",
    "elif output[0][1] > output[0][0] and output[0][1] > output[0][2]:\n",
    "    print(\"onion\")    \n",
    "else:\n",
    "    print('carrot')\n",
    "output\n"
   ]
  },
  {
   "cell_type": "code",
   "execution_count": null,
   "metadata": {
    "scrolled": false
   },
   "outputs": [],
   "source": [
    "img = image.load_img(\"image_copy/carrot/carrot_1.jpg\",target_size=(224,224))\n",
    "img = np.asarray(img)\n",
    "plt.imshow(img)\n",
    "img = np.expand_dims(img, axis=0)\n",
    "output = loaded_model.predict(img)\n",
    "img1 = img\n",
    "if output[0][0] > output[0][1] and output[0][0] > output[0][2]:\n",
    "    print(\"cabbage\")\n",
    "elif output[0][1] > output[0][0] and output[0][1] > output[0][2]:\n",
    "    print(\"onion\")    \n",
    "else:\n",
    "    print('carrot')\n",
    "output"
   ]
  },
  {
   "cell_type": "code",
   "execution_count": null,
   "metadata": {},
   "outputs": [],
   "source": [
    "img = image.load_img(\"image_copy/onion/onion_1.jpg\",target_size=(224,224))\n",
    "img = np.asarray(img)\n",
    "plt.imshow(img)\n",
    "img = np.expand_dims(img, axis=0)\n",
    "output = loaded_model.predict(img)\n",
    "img2 = img\n",
    "if output[0][0] > output[0][1] and output[0][0] > output[0][2]:\n",
    "    print(\"cabbage\")\n",
    "elif output[0][1] > output[0][0] and output[0][1] > output[0][2]:\n",
    "    print(\"onion\")    \n",
    "else:\n",
    "    print('carrot')\n",
    "output\n"
   ]
  },
  {
   "cell_type": "code",
   "execution_count": null,
   "metadata": {},
   "outputs": [],
   "source": []
  }
 ],
 "metadata": {
  "kernelspec": {
   "display_name": "Python 3",
   "language": "python",
   "name": "python3"
  },
  "language_info": {
   "codemirror_mode": {
    "name": "ipython",
    "version": 3
   },
   "file_extension": ".py",
   "mimetype": "text/x-python",
   "name": "python",
   "nbconvert_exporter": "python",
   "pygments_lexer": "ipython3",
   "version": "3.8.3"
  }
 },
 "nbformat": 4,
 "nbformat_minor": 4
}
