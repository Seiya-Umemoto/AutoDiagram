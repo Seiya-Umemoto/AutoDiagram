{
 "cells": [
  {
   "cell_type": "code",
   "execution_count": 29,
   "metadata": {
    "colab": {},
    "colab_type": "code",
    "executionInfo": {
     "elapsed": 3069,
     "status": "ok",
     "timestamp": 1601020028572,
     "user": {
      "displayName": "_Ja&Ko N.T",
      "photoUrl": "https://lh3.googleusercontent.com/a-/AOh14GhXgG-x_xlM2Y7FX-SVduZDrylSQUYYSnJxc7r9xQ=s64",
      "userId": "13122495593584920215"
     },
     "user_tz": -540
    },
    "id": "pq5XpQMNawDv"
   },
   "outputs": [],
   "source": [
    "import numpy as np\n",
    "import matplotlib.pyplot as plt\n",
    "from keras.utils import plot_model\n",
    "from keras.preprocessing import image"
   ]
  },
  {
   "cell_type": "code",
   "execution_count": 30,
   "metadata": {
    "colab": {},
    "colab_type": "code",
    "executionInfo": {
     "elapsed": 513,
     "status": "ok",
     "timestamp": 1601020195780,
     "user": {
      "displayName": "_Ja&Ko N.T",
      "photoUrl": "https://lh3.googleusercontent.com/a-/AOh14GhXgG-x_xlM2Y7FX-SVduZDrylSQUYYSnJxc7r9xQ=s64",
      "userId": "13122495593584920215"
     },
     "user_tz": -540
    },
    "id": "QhebGbKcbIBQ"
   },
   "outputs": [],
   "source": [
    "def load_image(filename):\n",
    "  img = image.load_img(filename, target_size=(224,224))\n",
    "  return image.img_to_array(img)"
   ]
  },
  {
   "cell_type": "code",
   "execution_count": 31,
   "metadata": {
    "colab": {},
    "colab_type": "code",
    "executionInfo": {
     "elapsed": 577,
     "status": "ok",
     "timestamp": 1601020196589,
     "user": {
      "displayName": "_Ja&Ko N.T",
      "photoUrl": "https://lh3.googleusercontent.com/a-/AOh14GhXgG-x_xlM2Y7FX-SVduZDrylSQUYYSnJxc7r9xQ=s64",
      "userId": "13122495593584920215"
     },
     "user_tz": -540
    },
    "id": "uv22J0mmbVRN"
   },
   "outputs": [],
   "source": [
    "from keras.applications.vgg16 import VGG16, preprocess_input,decode_predictions"
   ]
  },
  {
   "cell_type": "code",
   "execution_count": 35,
   "metadata": {
    "colab": {},
    "colab_type": "code",
    "executionInfo": {
     "elapsed": 877,
     "status": "ok",
     "timestamp": 1601021682995,
     "user": {
      "displayName": "_Ja&Ko N.T",
      "photoUrl": "https://lh3.googleusercontent.com/a-/AOh14GhXgG-x_xlM2Y7FX-SVduZDrylSQUYYSnJxc7r9xQ=s64",
      "userId": "13122495593584920215"
     },
     "user_tz": -540
    },
    "id": "JAZWpCUCbjzI"
   },
   "outputs": [],
   "source": [
    "model = VGG16(include_top=True, weights = None,\n",
    "              input_tensor = None, input_shape = None)"
   ]
  },
  {
   "cell_type": "code",
   "execution_count": 34,
   "metadata": {
    "colab": {},
    "colab_type": "code",
    "executionInfo": {
     "elapsed": 798,
     "status": "ok",
     "timestamp": 1601020356072,
     "user": {
      "displayName": "_Ja&Ko N.T",
      "photoUrl": "https://lh3.googleusercontent.com/a-/AOh14GhXgG-x_xlM2Y7FX-SVduZDrylSQUYYSnJxc7r9xQ=s64",
      "userId": "13122495593584920215"
     },
     "user_tz": -540
    },
    "id": "RPNWpbXKbvAs"
   },
   "outputs": [],
   "source": [
    "# from google.colab import files\n",
    "# files.upload()"
   ]
  },
  {
   "cell_type": "code",
   "execution_count": 33,
   "metadata": {
    "colab": {},
    "colab_type": "code",
    "executionInfo": {
     "elapsed": 603,
     "status": "ok",
     "timestamp": 1601020269411,
     "user": {
      "displayName": "_Ja&Ko N.T",
      "photoUrl": "https://lh3.googleusercontent.com/a-/AOh14GhXgG-x_xlM2Y7FX-SVduZDrylSQUYYSnJxc7r9xQ=s64",
      "userId": "13122495593584920215"
     },
     "user_tz": -540
    },
    "id": "oLVYHbG2Pdba"
   },
   "outputs": [],
   "source": [
    "images1 = [\"data/\"]\n"
   ]
  },
  {
   "cell_type": "code",
   "execution_count": null,
   "metadata": {
    "colab": {},
    "colab_type": "code",
    "id": "YhNX385Pb9Y9"
   },
   "outputs": [],
   "source": [
    "images = ['2Q__ (1).jpg',\n",
    "          '2Q__ (13) - コピー.jpg',\n",
    "          '2Q__ (16) - コピー.jpg',\n",
    "          '2Q__ (2).jpg',\n",
    "          '2Q__ (3).jpg',\n",
    "          '2Q__ (4) - コピー.jpg',\n",
    "          '2Q__ (5).jpg',\n",
    "          '2Q__ (7).jpg',\n",
    "          '2Q__ (9) - コピー.jpg',\n",
    "          '2Q__ (1) - コピー.jpg']\n",
    "\n",
    "x = np.zeros((len(images),224,224,3))\n",
    "\n",
    "for i in range(0,len(images)):\n",
    "  x[i] = load_image(images[i])"
   ]
  },
  {
   "cell_type": "code",
   "execution_count": null,
   "metadata": {
    "colab": {
     "base_uri": "https://localhost:8080/",
     "height": 34
    },
    "colab_type": "code",
    "executionInfo": {
     "elapsed": 835,
     "status": "ok",
     "timestamp": 1601018971395,
     "user": {
      "displayName": "_Ja&Ko N.T",
      "photoUrl": "https://lh3.googleusercontent.com/a-/AOh14GhXgG-x_xlM2Y7FX-SVduZDrylSQUYYSnJxc7r9xQ=s64",
      "userId": "13122495593584920215"
     },
     "user_tz": -540
    },
    "id": "04wfAKCzHeIf",
    "outputId": "4f8262f7-494e-4b51-964c-7c6dc3d04492"
   },
   "outputs": [
    {
     "name": "stdout",
     "output_type": "stream",
     "text": [
      "pred.shape=(10, 1000)\n"
     ]
    }
   ],
   "source": [
    "pred = model.predict(preprocess_input(x))\n",
    "print('pred.shape={}'.format(pred.shape))"
   ]
  },
  {
   "cell_type": "code",
   "execution_count": null,
   "metadata": {
    "colab": {
     "base_uri": "https://localhost:8080/",
     "height": 1000
    },
    "colab_type": "code",
    "executionInfo": {
     "elapsed": 485,
     "status": "ok",
     "timestamp": 1601018984870,
     "user": {
      "displayName": "_Ja&Ko N.T",
      "photoUrl": "https://lh3.googleusercontent.com/a-/AOh14GhXgG-x_xlM2Y7FX-SVduZDrylSQUYYSnJxc7r9xQ=s64",
      "userId": "13122495593584920215"
     },
     "user_tz": -540
    },
    "id": "LMUXd7j2HtVE",
    "outputId": "a67567b1-e08f-484a-ae46-3ba10010f2ef"
   },
   "outputs": [
    {
     "name": "stdout",
     "output_type": "stream",
     "text": [
      "0:\n",
      "name:1, desc:packet,    score:51.5%\n",
      "name:2, desc:plastic_bag,    score:36.6%\n",
      "name:3, desc:pillow,    score:2.2%\n",
      "name:4, desc:sunscreen,    score:1.5%\n",
      "name:5, desc:lotion,    score:0.9%\n",
      "1:\n",
      "name:1, desc:swab,    score:8.6%\n",
      "name:2, desc:sea_urchin,    score:4.3%\n",
      "name:3, desc:head_cabbage,    score:4.3%\n",
      "name:4, desc:buckeye,    score:3.9%\n",
      "name:5, desc:quill,    score:3.8%\n",
      "2:\n",
      "name:1, desc:spaghetti_squash,    score:19.3%\n",
      "name:2, desc:buckeye,    score:18.9%\n",
      "name:3, desc:puffer,    score:7.2%\n",
      "name:4, desc:sea_urchin,    score:6.2%\n",
      "name:5, desc:carbonara,    score:2.3%\n",
      "3:\n",
      "name:1, desc:plastic_bag,    score:33.7%\n",
      "name:2, desc:packet,    score:16.6%\n",
      "name:3, desc:sunscreen,    score:14.7%\n",
      "name:4, desc:lotion,    score:7.8%\n",
      "name:5, desc:perfume,    score:6.2%\n",
      "4:\n",
      "name:1, desc:plastic_bag,    score:37.0%\n",
      "name:2, desc:packet,    score:30.3%\n",
      "name:3, desc:grocery_store,    score:5.2%\n",
      "name:4, desc:hamper,    score:3.1%\n",
      "name:5, desc:burrito,    score:2.9%\n",
      "5:\n",
      "name:1, desc:swab,    score:8.6%\n",
      "name:2, desc:sea_urchin,    score:4.3%\n",
      "name:3, desc:head_cabbage,    score:4.3%\n",
      "name:4, desc:buckeye,    score:3.9%\n",
      "name:5, desc:quill,    score:3.8%\n",
      "6:\n",
      "name:1, desc:coral_fungus,    score:61.2%\n",
      "name:2, desc:corn,    score:4.5%\n",
      "name:3, desc:sea_anemone,    score:4.3%\n",
      "name:4, desc:coral_reef,    score:3.9%\n",
      "name:5, desc:ear,    score:2.9%\n",
      "7:\n",
      "name:1, desc:spaghetti_squash,    score:19.3%\n",
      "name:2, desc:buckeye,    score:18.9%\n",
      "name:3, desc:puffer,    score:7.2%\n",
      "name:4, desc:sea_urchin,    score:6.2%\n",
      "name:5, desc:carbonara,    score:2.3%\n",
      "8:\n",
      "name:1, desc:carbonara,    score:84.0%\n",
      "name:2, desc:spaghetti_squash,    score:7.7%\n",
      "name:3, desc:soup_bowl,    score:3.4%\n",
      "name:4, desc:consomme,    score:1.0%\n",
      "name:5, desc:plate,    score:0.7%\n",
      "9:\n",
      "name:1, desc:packet,    score:51.5%\n",
      "name:2, desc:plastic_bag,    score:36.6%\n",
      "name:3, desc:pillow,    score:2.2%\n",
      "name:4, desc:sunscreen,    score:1.5%\n",
      "name:5, desc:lotion,    score:0.9%\n"
     ]
    }
   ],
   "source": [
    "# preprocess_input(x,data_format=None, mode = 'caffe')\n",
    "top = decode_predictions(pred, top=5)\n",
    "for i in range(0, len(top)):\n",
    "  print('{}:'.format(i))\n",
    "  for j in range(0,len(top[i])):\n",
    "    name, desc, score = top[i][j]\n",
    "    print('name:{}, desc:{},    score:{score:02.1f}%'.format(j+1,desc,score=score*100))"
   ]
  },
  {
   "cell_type": "code",
   "execution_count": null,
   "metadata": {
    "colab": {},
    "colab_type": "code",
    "id": "q1c-xMA0H7R5"
   },
   "outputs": [],
   "source": []
  }
 ],
 "metadata": {
  "accelerator": "GPU",
  "colab": {
   "authorship_tag": "ABX9TyOg+U+OuSYhtTPYWjpZX8w1",
   "collapsed_sections": [],
   "name": "DataScience.ipynb",
   "provenance": []
  },
  "kernelspec": {
   "display_name": "Python 3",
   "language": "python",
   "name": "python3"
  },
  "language_info": {
   "codemirror_mode": {
    "name": "ipython",
    "version": 3
   },
   "file_extension": ".py",
   "mimetype": "text/x-python",
   "name": "python",
   "nbconvert_exporter": "python",
   "pygments_lexer": "ipython3",
   "version": "3.8.3"
  }
 },
 "nbformat": 4,
 "nbformat_minor": 4
}
