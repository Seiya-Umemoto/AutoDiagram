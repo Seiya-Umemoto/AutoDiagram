{
 "cells": [
  {
   "cell_type": "code",
   "execution_count": 8,
   "metadata": {},
   "outputs": [],
   "source": [
    "import requests\n",
    "from requests.compat import urljoin\n",
    "from bs4 import BeautifulSoup\n",
    "import time\n",
    "from PIL import Image\n",
    "import urllib.request\n",
    "import os"
   ]
  },
  {
   "cell_type": "code",
   "execution_count": 68,
   "metadata": {},
   "outputs": [],
   "source": [
    "class web_scryping:\n",
    "    def __init__(self , url):\n",
    "        self.url = url\n",
    "        self.soup = BeautifulSoup(requests.get(self.url).content, 'lxml')"
   ]
  },
  {
   "cell_type": "code",
   "execution_count": 118,
   "metadata": {},
   "outputs": [],
   "source": [
    "class download_images(web_scryping):\n",
    "    def download(self , max_down_num):\n",
    "        self.down_num = 221\n",
    "        self.max_down_num = max_down_num\n",
    "        self.save_path = './apple/apple' + str(self.down_num+1) + '.jpg'\n",
    "        now_num = 0\n",
    "        for link in self.soup.find_all(\"img\"):\n",
    "            src_attr = link.get(\"src\")\n",
    "            target = urljoin(self.url, src_attr)\n",
    "            resp = requests.get(target)\n",
    "            image = resp.content\n",
    "            print(str(resp) + '  ' + str(now_num))\n",
    "            now_num = now_num + 1\n",
    "            if str(resp) != '<Response [404]>':\n",
    "                with open(self.save_path, 'wb') as f:\n",
    "                    f.write(image)\n",
    "                self.down_num = self.down_num + 1\n",
    "            #time.sleep(1)\n",
    "            self.save_path = './apple/apple' + str(self.down_num+1) + '.jpg'\n",
    "            if self.down_num == self.max_down_num:\n",
    "                break\n",
    "\n",
    "    def img_resize(self , img_path):\n",
    "        try:            \n",
    "            im = Image.open(img_path)\n",
    "            print(\"元の画像サイズ　width: {}, height: {}\".format(im.size[0], im.size[1]))\n",
    "            im_resize = im.resize(size=(800,1200))         \n",
    "            im_resize.save(save_path)\n",
    "            print('image resize sucess')\n",
    "        except:\n",
    "            print('image resize failed')\n"
   ]
  },
  {
   "cell_type": "code",
   "execution_count": 119,
   "metadata": {},
   "outputs": [
    {
     "name": "stdout",
     "output_type": "stream",
     "text": [
      "<Response [200]>  0\n",
      "<Response [200]>  1\n",
      "<Response [200]>  2\n",
      "<Response [200]>  3\n",
      "<Response [200]>  4\n",
      "<Response [200]>  5\n",
      "<Response [200]>  6\n",
      "<Response [200]>  7\n",
      "<Response [200]>  8\n",
      "<Response [200]>  9\n",
      "<Response [200]>  10\n",
      "<Response [200]>  11\n",
      "<Response [200]>  12\n",
      "<Response [200]>  13\n",
      "<Response [200]>  14\n",
      "<Response [200]>  15\n",
      "<Response [200]>  16\n",
      "<Response [200]>  17\n",
      "<Response [200]>  18\n",
      "<Response [200]>  19\n",
      "<Response [200]>  20\n"
     ]
    }
   ],
   "source": [
    "#url=sys.argv[0]\n",
    "url = \"https://www.google.com/search?q=%E3%82%8A%E3%82%93%E3%81%94&tbm=isch&ved=2ahUKEwjS-_eAw6ftAhUEfpQKHfuaAP8Q2-cCegQIABAA&oq=%E3%82%8A%E3%82%93%E3%81%94&gs_lcp=CgNpbWcQAzICCAAyAggAMgIIADICCAAyAggAMgIIADICCAAyBAgAEAQyBAgAEAQyBAgAEAQ6BAgjECc6BwgjEOoCECdQiHVYiZ4BYKejAWgHcAB4AIABe4gBwgiSAQMxLjmYAQCgAQGqAQtnd3Mtd2l6LWltZ7ABCsABAQ&sclient=img&ei=AXXDX5L3HYT80QT7tYL4Dw&bih=752&biw=750\"\n",
    "#rl = \"https://www.google.com/search?q=%EA%B7%A4&tbm=isch&ved=2ahUKEwiokpj_waftAhUJy4sBHUGmB_4Q2-cCegQIABAA&oq=%EA%B7%A4&gs_lcp=CgNpbWcQAzIECAAQHjIECAAQHjIECAAQHjIECAAQHjIECAAQHjIECAAQHjIECAAQHjIECAAQHjIECAAQHjIECAAQHjoECCMQJzoCCAA6BwgjEOoCECc6BAgAEBhQgY8CWOObAmDXpAJoAXAAeACAAXeIAb4EkgEDMC41mAEAoAEBqgELZ3dzLXdpei1pbWewAQrAAQE&sclient=img&ei=8XPDX-jVF4mWr7wPwcye8A8&bih=735&biw=733&hl=ja\"\n",
    "di= download_images(url)\n",
    "di.download(200)"
   ]
  },
  {
   "cell_type": "code",
   "execution_count": null,
   "metadata": {},
   "outputs": [],
   "source": []
  }
 ],
 "metadata": {
  "kernelspec": {
   "display_name": "Python 3",
   "language": "python",
   "name": "python3"
  },
  "language_info": {
   "codemirror_mode": {
    "name": "ipython",
    "version": 3
   },
   "file_extension": ".py",
   "mimetype": "text/x-python",
   "name": "python",
   "nbconvert_exporter": "python",
   "pygments_lexer": "ipython3",
   "version": "3.8.3"
  }
 },
 "nbformat": 4,
 "nbformat_minor": 4
}
